{
  "nbformat": 4,
  "nbformat_minor": 0,
  "metadata": {
    "colab": {
      "provenance": []
    },
    "kernelspec": {
      "name": "python3",
      "display_name": "Python 3"
    },
    "language_info": {
      "name": "python"
    }
  },
  "cells": [
    {
      "cell_type": "code",
      "execution_count": null,
      "metadata": {
        "id": "1-D6-037CO_I"
      },
      "outputs": [],
      "source": [
        "import random"
      ]
    },
    {
      "cell_type": "code",
      "source": [
        "class example62mdp():\n",
        "    def __init__(self):\n",
        "        print(\"mdp init\")\n",
        "\n",
        "    def states(self):\n",
        "        return ['A','B','C','D','E','L','R']\n",
        "\n",
        "    def actions(self):\n",
        "        return ['go-left','go-right']\n",
        "\n",
        "    def startState(self):\n",
        "        return 'C'\n",
        "\n",
        "    def isEnd(self,state):\n",
        "        if state=='L' or state == 'R':\n",
        "            return True\n",
        "        else:\n",
        "            return False\n",
        "\n",
        "    def transitionsAndRewards(self,state,action):\n",
        "        results=[]\n",
        "        if state=='A':\n",
        "            results.append(('L',1/2,0))\n",
        "            results.append(('B',1/2,0))\n",
        "\n",
        "        if state=='B':\n",
        "            results.append(('A',1/2,0))\n",
        "            results.append(('C',1/2,0))\n",
        "\n",
        "        if state=='C':\n",
        "            results.append(('B',1/2,0))\n",
        "            results.append(('D',1/2,0))\n",
        "\n",
        "        if state=='D':\n",
        "            results.append(('C',1/2,0))\n",
        "            results.append(('E',1/2,0))\n",
        "\n",
        "        if state=='E':\n",
        "            results.append(('D',1/2,0))\n",
        "            results.append(('R',1/2,1))\n",
        "\n",
        "        return results\n",
        "\n",
        "    def displayvaluefunction(self,V):\n",
        "        for state in self.states():\n",
        "            print(('{} : {}'.format(state,round(V[state],2))))"
      ],
      "metadata": {
        "id": "qFe2KQ_gKpkr"
      },
      "execution_count": null,
      "outputs": []
    },
    {
      "cell_type": "code",
      "source": [
        "class modelfreepred():\n",
        "\n",
        "    def __init__(self,mdp,maxnum_episodes=100):\n",
        "        self.mdp=mdp\n",
        "        self.maxnum_episodes = maxnum_episodes\n",
        "        self.alpha = 0.1\n",
        "        print(\"model free pred init\")\n",
        "\n",
        "    def TD(self):\n",
        "        V = {}\n",
        "\n",
        "        for state in self.mdp.states():\n",
        "            if state not in ['L','R']:\n",
        "                V[state] = 0.5\n",
        "\n",
        "            if state in ['L','R']:\n",
        "                V[state] = 0\n",
        "\n",
        "        for i in range(self.maxnum_episodes):\n",
        "\n",
        "\n",
        "            laststate = self.mdp.startState()\n",
        "            trajectory = [laststate]\n",
        "\n",
        "            while not self.mdp.isEnd(laststate):\n",
        "                startstate = laststate\n",
        "                possibletransitions = self.mdp.transitionsAndRewards(laststate,1)\n",
        "\n",
        "                sampledtransition = random.choice(possibletransitions)\n",
        "\n",
        "                nextstate = sampledtransition[0]\n",
        "                reward = sampledtransition[2]\n",
        "\n",
        "                trajectory.append(nextstate)\n",
        "\n",
        "                V[startstate] = V[startstate] + self.alpha*(\n",
        "                    reward+V[nextstate]-V[startstate]\n",
        "                )\n",
        "\n",
        "                laststate = nextstate\n",
        "\n",
        "            # print(trajectory)\n",
        "\n",
        "            # mdp.displayvaluefunction(V)\n",
        "\n",
        "        mdp.displayvaluefunction(V)"
      ],
      "metadata": {
        "id": "VKrIeS5IMD3w"
      },
      "execution_count": null,
      "outputs": []
    },
    {
      "cell_type": "code",
      "source": [
        "mdp = example62mdp()\n",
        "modfreepred = modelfreepred(mdp,maxnum_episodes=500)\n",
        "modfreepred.TD()"
      ],
      "metadata": {
        "colab": {
          "base_uri": "https://localhost:8080/"
        },
        "id": "fE2IXnRdYi0X",
        "outputId": "c9d59e77-ce04-4784-af14-5d2374bf8958"
      },
      "execution_count": null,
      "outputs": [
        {
          "output_type": "stream",
          "name": "stdout",
          "text": [
            "mdp init\n",
            "model free pred init\n",
            "A : 0.16\n",
            "B : 0.3\n",
            "C : 0.49\n",
            "D : 0.65\n",
            "E : 0.88\n",
            "L : 0\n",
            "R : 0\n"
          ]
        }
      ]
    },
    {
      "cell_type": "code",
      "source": [
        "def iterativepolicyevaluation(mdp):\n",
        "    # initialise value function\n",
        "    V = {}\n",
        "    for state in mdp.states():\n",
        "        V[state] = 0\n",
        "\n",
        "    while True:\n",
        "        newV = {}\n",
        "        for state in mdp.states():\n",
        "            newV[state] = 0\n",
        "\n",
        "        for state in mdp.states():\n",
        "\n",
        "            if mdp.isEnd(state):\n",
        "                V[state] = 0\n",
        "\n",
        "            else:\n",
        "                newV[state] = sum(prob*(reward+V[nextstate]) for nextstate,prob,reward in mdp.transitionsAndRewards(state,1))\n",
        "\n",
        "        if max(abs(V[state]-newV[state]) for state in mdp.states()) < 1e-10:\n",
        "            break\n",
        "\n",
        "        V = newV\n",
        "\n",
        "    mdp.displayvaluefunction(V)"
      ],
      "metadata": {
        "id": "FfNtIz0xa0jm"
      },
      "execution_count": null,
      "outputs": []
    },
    {
      "cell_type": "code",
      "source": [
        "iterativepolicyevaluation(mdp)"
      ],
      "metadata": {
        "colab": {
          "base_uri": "https://localhost:8080/"
        },
        "id": "c6VLt4ccdgWa",
        "outputId": "66a1b1b9-b1f2-4e96-d13f-972ad54c16b2"
      },
      "execution_count": null,
      "outputs": [
        {
          "output_type": "stream",
          "name": "stdout",
          "text": [
            "A : 0.17\n",
            "B : 0.33\n",
            "C : 0.5\n",
            "D : 0.67\n",
            "E : 0.83\n",
            "L : 0\n",
            "R : 0\n"
          ]
        }
      ]
    }
  ]
}